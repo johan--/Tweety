{
 "cells": [
  {
   "cell_type": "code",
   "execution_count": null,
   "metadata": {
    "collapsed": false
   },
   "outputs": [],
   "source": [
    "import ConfigParser\n",
    "import sys\n",
    "import time\n",
    "\n",
    "import tweepy\n",
    "\n",
    "config = ConfigParser.ConfigParser()\n",
    "config.read('twitter.cfg')\n",
    "\n",
    "auth = tweepy.OAuthHandler(config.get('twitter', 'consumer_key'), config.get('twitter', 'consumer_secret'))\n",
    "auth.set_access_token(config.get('twitter', 'access_token'), config.get('twitter', 'access_token_secret'))\n",
    "\n",
    "api = tweepy.API(auth)\n",
    "\n",
    "print 'Authorized'"
   ]
  },
  {
   "cell_type": "code",
   "execution_count": null,
   "metadata": {
    "collapsed": false
   },
   "outputs": [],
   "source": [
    "tweets = []\n",
    "\n",
    "screen_name = 'chicagotribune'\n",
    "\n",
    "new_tweets = api.user_timeline(screen_name = screen_name, count=200)\n",
    "\n",
    "tweets.extend(new_tweets)\n",
    "\n",
    "oldest_tweet = tweets[-1].id - 1\n",
    "\n",
    "#keep grabbing tweets until there are no tweets left to grab\n",
    "while len(new_tweets) > 0:\n",
    "    new_tweets = api.user_timeline(screen_name = screen_name,count=200,max_id=oldest_tweet)\n",
    "    tweets.extend(new_tweets)\n",
    "    oldest_tweet = tweets[-1].id - 1\n",
    "    \n",
    "print \"Found %s tweets.\" % (len(tweets))\n",
    "\n",
    "outtweets = [[tweet.id_str, tweet.created_at, tweet.text.encode(\"utf-8\")] for tweet in tweets]\n",
    "\n",
    "print 'done'"
   ]
  }
 ],
 "metadata": {
  "kernelspec": {
   "display_name": "Python 2",
   "language": "python",
   "name": "python2"
  },
  "language_info": {
   "codemirror_mode": {
    "name": "ipython",
    "version": 2
   },
   "file_extension": ".py",
   "mimetype": "text/x-python",
   "name": "python",
   "nbconvert_exporter": "python",
   "pygments_lexer": "ipython2",
   "version": "2.7.10"
  }
 },
 "nbformat": 4,
 "nbformat_minor": 0
}
