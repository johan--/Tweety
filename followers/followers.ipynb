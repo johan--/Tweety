{
 "cells": [
  {
   "cell_type": "code",
   "execution_count": null,
   "metadata": {
    "collapsed": true
   },
   "outputs": [],
   "source": [
    "import ConfigParser\n",
    "import sys\n",
    "import time\n",
    "\n",
    "import tweepy\n",
    "\n",
    "config = ConfigParser.ConfigParser()\n",
    "config.read('twitter.cfg')\n",
    "\n",
    "auth = tweepy.OAuthHandler(config.get('twitter', 'consumer_key'), config.get('twitter', 'consumer_secret'))\n",
    "auth.set_access_token(config.get('twitter', 'access_token'), config.get('twitter', 'access_token_secret'))\n",
    "\n",
    "api = tweepy.API(auth)\n",
    "\n",
    "print 'Authorized'"
   ]
  },
  {
   "cell_type": "code",
   "execution_count": null,
   "metadata": {
    "collapsed": true
   },
   "outputs": [],
   "source": [
    "for follower in api.followers_ids('chicagotribune'):\n",
    "    print api.get_user(follower).screen_name\n",
    "    \n",
    "print 'done'"
   ]
  }
 ],
 "metadata": {
  "kernelspec": {
   "display_name": "Python 2",
   "language": "python",
   "name": "python2"
  },
  "language_info": {
   "codemirror_mode": {
    "name": "ipython",
    "version": 2
   },
   "file_extension": ".py",
   "mimetype": "text/x-python",
   "name": "python",
   "nbconvert_exporter": "python",
   "pygments_lexer": "ipython2",
   "version": "2.7.10"
  }
 },
 "nbformat": 4,
 "nbformat_minor": 0
}
