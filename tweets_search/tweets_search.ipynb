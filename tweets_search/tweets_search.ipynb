{
 "cells": [
  {
   "cell_type": "code",
   "execution_count": null,
   "metadata": {
    "collapsed": false
   },
   "outputs": [],
   "source": [
    "import ConfigParser\n",
    "import sys\n",
    "import time\n",
    "\n",
    "from TwitterAPI import TwitterAPI\n",
    "\n",
    "config = ConfigParser.ConfigParser()\n",
    "config.read('twitter.cfg')\n",
    "\n",
    "api = TwitterAPI(config.get('twitter', 'consumer_key'), config.get('twitter', 'consumer_secret'), config.get('twitter', 'access_token'), config.get('twitter', 'access_token_secret'))\n",
    "\n",
    "print 'Authorized'"
   ]
  },
  {
   "cell_type": "code",
   "execution_count": null,
   "metadata": {
    "collapsed": false
   },
   "outputs": [],
   "source": [
    "r = api.request('search/tweets', {'q':'pizza'})\n",
    "\n",
    "for item in r.get_iterator():\n",
    "    print item['user']['screen_name'], ' : ', item['text'], '\\n'"
   ]
  }
 ],
 "metadata": {
  "kernelspec": {
   "display_name": "Python 2",
   "language": "python",
   "name": "python2"
  },
  "language_info": {
   "codemirror_mode": {
    "name": "ipython",
    "version": 2
   },
   "file_extension": ".py",
   "mimetype": "text/x-python",
   "name": "python",
   "nbconvert_exporter": "python",
   "pygments_lexer": "ipython2",
   "version": "2.7.10"
  }
 },
 "nbformat": 4,
 "nbformat_minor": 0
}
